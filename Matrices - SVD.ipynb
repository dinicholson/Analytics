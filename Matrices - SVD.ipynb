{
 "metadata": {
  "name": "",
  "signature": "sha256:d92700686a0c707a7518b7b2544d30f7a9a97e0863bf3e0df83fb89ffb41834b"
 },
 "nbformat": 3,
 "nbformat_minor": 0,
 "worksheets": [
  {
   "cells": [
    {
     "cell_type": "code",
     "collapsed": false,
     "input": [
      "import numpy as np"
     ],
     "language": "python",
     "metadata": {},
     "outputs": [],
     "prompt_number": 1
    },
    {
     "cell_type": "code",
     "collapsed": false,
     "input": [
      "X= np.array([[1, 0, 1, 0, 0], [1, 1, 0, 0, 0],[0, 1, 0, 0, 0], [0, 1, 1, 0, 0],[0, 0, 1, 1, 0], [0, 0, 0, 1, 1]])\n",
      "X"
     ],
     "language": "python",
     "metadata": {},
     "outputs": [
      {
       "metadata": {},
       "output_type": "pyout",
       "prompt_number": 2,
       "text": [
        "array([[1, 0, 1, 0, 0],\n",
        "       [1, 1, 0, 0, 0],\n",
        "       [0, 1, 0, 0, 0],\n",
        "       [0, 1, 1, 0, 0],\n",
        "       [0, 0, 1, 1, 0],\n",
        "       [0, 0, 0, 1, 1]])"
       ]
      }
     ],
     "prompt_number": 2
    },
    {
     "cell_type": "code",
     "collapsed": false,
     "input": [
      "U, s, V = np.linalg.svd(X, full_matrices=True)"
     ],
     "language": "python",
     "metadata": {},
     "outputs": [],
     "prompt_number": 3
    },
    {
     "cell_type": "code",
     "collapsed": false,
     "input": [
      "np.set_printoptions(formatter={'float': '{: 0.2f}'.format})\n",
      "print(U)"
     ],
     "language": "python",
     "metadata": {},
     "outputs": [
      {
       "output_type": "stream",
       "stream": "stdout",
       "text": [
        "[[-0.49 -0.02 -0.59  0.42 -0.31  0.38]\n",
        " [-0.45  0.42  0.28  0.51  0.37 -0.38]\n",
        " [-0.26  0.29  0.46 -0.24  0.11  0.76]\n",
        " [-0.55  0.13  0.05 -0.57 -0.46 -0.38]\n",
        " [-0.41 -0.57 -0.16 -0.26  0.64 -0.00]\n",
        " [-0.14 -0.63  0.58  0.34 -0.36  0.00]]\n"
       ]
      }
     ],
     "prompt_number": 7
    },
    {
     "cell_type": "code",
     "collapsed": false,
     "input": [
      "print(np.diag(s))"
     ],
     "language": "python",
     "metadata": {},
     "outputs": [
      {
       "output_type": "stream",
       "stream": "stdout",
       "text": [
        "[[ 2.21  0.00  0.00  0.00  0.00]\n",
        " [ 0.00  1.71  0.00  0.00  0.00]\n",
        " [ 0.00  0.00  1.31  0.00  0.00]\n",
        " [ 0.00  0.00  0.00  1.11  0.00]\n",
        " [ 0.00  0.00  0.00  0.00  0.48]]\n"
       ]
      }
     ],
     "prompt_number": 10
    },
    {
     "cell_type": "code",
     "collapsed": false,
     "input": [
      "print(V)"
     ],
     "language": "python",
     "metadata": {},
     "outputs": [
      {
       "output_type": "stream",
       "stream": "stdout",
       "text": [
        "[[-0.42 -0.57 -0.66 -0.25 -0.06]\n",
        " [ 0.23  0.49 -0.28 -0.70 -0.37]\n",
        " [-0.24  0.60 -0.53  0.32  0.44]\n",
        " [ 0.83 -0.27 -0.37  0.07  0.31]\n",
        " [ 0.12  0.05 -0.27  0.58 -0.75]]\n"
       ]
      }
     ],
     "prompt_number": 65
    },
    {
     "cell_type": "code",
     "collapsed": false,
     "input": [
      "zero = np.array([0,0,0,0,0])\n",
      "check = np.vstack((np.diag(s), zero))\n",
      "print check"
     ],
     "language": "python",
     "metadata": {},
     "outputs": [
      {
       "output_type": "stream",
       "stream": "stdout",
       "text": [
        "[[ 2.21  0.00  0.00  0.00  0.00]\n",
        " [ 0.00  1.71  0.00  0.00  0.00]\n",
        " [ 0.00  0.00  1.31  0.00  0.00]\n",
        " [ 0.00  0.00  0.00  1.11  0.00]\n",
        " [ 0.00  0.00  0.00  0.00  0.48]\n",
        " [ 0.00  0.00  0.00  0.00  0.00]]\n"
       ]
      }
     ],
     "prompt_number": 22
    },
    {
     "cell_type": "code",
     "collapsed": false,
     "input": [
      "first = np.dot(U, check)\n",
      "second = np.dot(first, V)\n",
      "print second"
     ],
     "language": "python",
     "metadata": {},
     "outputs": [
      {
       "output_type": "stream",
       "stream": "stdout",
       "text": [
        "[[ 1.00  0.00  1.00  0.00 -0.00]\n",
        " [ 1.00  1.00  0.00 -0.00  0.00]\n",
        " [-0.00  1.00  0.00 -0.00  0.00]\n",
        " [ 0.00  1.00  1.00  0.00 -0.00]\n",
        " [ 0.00  0.00  1.00  1.00 -0.00]\n",
        " [-0.00 -0.00  0.00  1.00  1.00]]\n"
       ]
      }
     ],
     "prompt_number": 66
    },
    {
     "cell_type": "code",
     "collapsed": false,
     "input": [
      "np.mat(U)*np.mat(check)*np.mat(V)"
     ],
     "language": "python",
     "metadata": {},
     "outputs": [
      {
       "metadata": {},
       "output_type": "pyout",
       "prompt_number": 32,
       "text": [
        "matrix([[ 1.00,  0.00,  1.00,  0.00, -0.00],\n",
        "        [ 1.00,  1.00,  0.00, -0.00,  0.00],\n",
        "        [-0.00,  1.00,  0.00, -0.00,  0.00],\n",
        "        [ 0.00,  1.00,  1.00,  0.00, -0.00],\n",
        "        [ 0.00,  0.00,  1.00,  1.00, -0.00],\n",
        "        [-0.00, -0.00,  0.00,  1.00,  1.00]])"
       ]
      }
     ],
     "prompt_number": 32
    },
    {
     "cell_type": "code",
     "collapsed": false,
     "input": [
      "U1= U[:, [0,1]]  \n",
      "S1= check[0:2,0:2]\n",
      "V1= V[0:2,0:5]"
     ],
     "language": "python",
     "metadata": {},
     "outputs": [],
     "prompt_number": 70
    },
    {
     "cell_type": "code",
     "collapsed": false,
     "input": [
      "np.mat(U1)*np.mat(S1)*np.mat(V1)"
     ],
     "language": "python",
     "metadata": {},
     "outputs": [
      {
       "metadata": {},
       "output_type": "pyout",
       "prompt_number": 64,
       "text": [
        "matrix([[ 0.45,  0.59,  0.72,  0.30,  0.08],\n",
        "        [ 0.59,  0.92,  0.45, -0.26, -0.20],\n",
        "        [ 0.36,  0.57,  0.24, -0.20, -0.14],\n",
        "        [ 0.57,  0.80,  0.74,  0.15, -0.00],\n",
        "        [ 0.15,  0.03,  0.86,  0.91,  0.42],\n",
        "        [-0.12, -0.35,  0.50,  0.83,  0.41]])"
       ]
      }
     ],
     "prompt_number": 64
    },
    {
     "cell_type": "code",
     "collapsed": false,
     "input": [],
     "language": "python",
     "metadata": {},
     "outputs": []
    }
   ],
   "metadata": {}
  }
 ]
}